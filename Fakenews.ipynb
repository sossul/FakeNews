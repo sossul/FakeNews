{
 "cells": [
  {
   "cell_type": "markdown",
   "id": "b30a4ccd",
   "metadata": {},
   "source": [
    "# FakeNews"
   ]
  },
  {
   "cell_type": "markdown",
   "id": "31e06afb",
   "metadata": {},
   "source": [
    "## Importar librerias"
   ]
  },
  {
   "cell_type": "code",
   "execution_count": 1,
   "id": "266aeadd",
   "metadata": {},
   "outputs": [],
   "source": [
    "import numpy as np\n",
    "import pandas as pd\n",
    "import itertools\n",
    "from sklearn.model_selection import train_test_split\n",
    "from sklearn.feature_extraction.text import TfidfVectorizer\n",
    "from sklearn.linear_model import PassiveAggressiveClassifier\n",
    "from sklearn.metrics import accuracy_score, confusion_matrix"
   ]
  },
  {
   "cell_type": "markdown",
   "id": "9cba4866",
   "metadata": {},
   "source": [
    "## Importar la data"
   ]
  },
  {
   "cell_type": "code",
   "execution_count": 2,
   "id": "4fccdd54",
   "metadata": {},
   "outputs": [
    {
     "data": {
      "text/html": [
       "<div>\n",
       "<style scoped>\n",
       "    .dataframe tbody tr th:only-of-type {\n",
       "        vertical-align: middle;\n",
       "    }\n",
       "\n",
       "    .dataframe tbody tr th {\n",
       "        vertical-align: top;\n",
       "    }\n",
       "\n",
       "    .dataframe thead th {\n",
       "        text-align: right;\n",
       "    }\n",
       "</style>\n",
       "<table border=\"1\" class=\"dataframe\">\n",
       "  <thead>\n",
       "    <tr style=\"text-align: right;\">\n",
       "      <th></th>\n",
       "      <th>Unnamed: 0</th>\n",
       "      <th>title</th>\n",
       "      <th>text</th>\n",
       "      <th>label</th>\n",
       "    </tr>\n",
       "  </thead>\n",
       "  <tbody>\n",
       "    <tr>\n",
       "      <th>0</th>\n",
       "      <td>8476</td>\n",
       "      <td>You Can Smell Hillary’s Fear</td>\n",
       "      <td>Daniel Greenfield, a Shillman Journalism Fello...</td>\n",
       "      <td>FAKE</td>\n",
       "    </tr>\n",
       "    <tr>\n",
       "      <th>1</th>\n",
       "      <td>10294</td>\n",
       "      <td>Watch The Exact Moment Paul Ryan Committed Pol...</td>\n",
       "      <td>Google Pinterest Digg Linkedin Reddit Stumbleu...</td>\n",
       "      <td>FAKE</td>\n",
       "    </tr>\n",
       "    <tr>\n",
       "      <th>2</th>\n",
       "      <td>3608</td>\n",
       "      <td>Kerry to go to Paris in gesture of sympathy</td>\n",
       "      <td>U.S. Secretary of State John F. Kerry said Mon...</td>\n",
       "      <td>REAL</td>\n",
       "    </tr>\n",
       "    <tr>\n",
       "      <th>3</th>\n",
       "      <td>10142</td>\n",
       "      <td>Bernie supporters on Twitter erupt in anger ag...</td>\n",
       "      <td>— Kaydee King (@KaydeeKing) November 9, 2016 T...</td>\n",
       "      <td>FAKE</td>\n",
       "    </tr>\n",
       "    <tr>\n",
       "      <th>4</th>\n",
       "      <td>875</td>\n",
       "      <td>The Battle of New York: Why This Primary Matters</td>\n",
       "      <td>It's primary day in New York and front-runners...</td>\n",
       "      <td>REAL</td>\n",
       "    </tr>\n",
       "  </tbody>\n",
       "</table>\n",
       "</div>"
      ],
      "text/plain": [
       "   Unnamed: 0                                              title  \\\n",
       "0        8476                       You Can Smell Hillary’s Fear   \n",
       "1       10294  Watch The Exact Moment Paul Ryan Committed Pol...   \n",
       "2        3608        Kerry to go to Paris in gesture of sympathy   \n",
       "3       10142  Bernie supporters on Twitter erupt in anger ag...   \n",
       "4         875   The Battle of New York: Why This Primary Matters   \n",
       "\n",
       "                                                text label  \n",
       "0  Daniel Greenfield, a Shillman Journalism Fello...  FAKE  \n",
       "1  Google Pinterest Digg Linkedin Reddit Stumbleu...  FAKE  \n",
       "2  U.S. Secretary of State John F. Kerry said Mon...  REAL  \n",
       "3  — Kaydee King (@KaydeeKing) November 9, 2016 T...  FAKE  \n",
       "4  It's primary day in New York and front-runners...  REAL  "
      ]
     },
     "execution_count": 2,
     "metadata": {},
     "output_type": "execute_result"
    }
   ],
   "source": [
    "#Leer la data\n",
    "df=pd.read_csv('data/news.csv')\n",
    "#Obtener la forma del DataFrame y el head\n",
    "df.shape\n",
    "df.head()"
   ]
  },
  {
   "cell_type": "code",
   "execution_count": 3,
   "id": "d7df2ef4",
   "metadata": {},
   "outputs": [
    {
     "data": {
      "text/plain": [
       "0    FAKE\n",
       "1    FAKE\n",
       "2    REAL\n",
       "3    FAKE\n",
       "4    REAL\n",
       "Name: label, dtype: object"
      ]
     },
     "execution_count": 3,
     "metadata": {},
     "output_type": "execute_result"
    }
   ],
   "source": [
    "#Obtener las etiquetas\n",
    "labels=df.label\n",
    "labels.head()"
   ]
  },
  {
   "cell_type": "code",
   "execution_count": 4,
   "id": "7245f953",
   "metadata": {},
   "outputs": [],
   "source": [
    "#Dividir el dataset\n",
    "x_train,x_test,y_train,y_test=train_test_split(df['text'], labels, test_size=0.2, random_state=7)"
   ]
  },
  {
   "cell_type": "markdown",
   "id": "6e36c192",
   "metadata": {},
   "source": [
    "## TfidfVectorizer"
   ]
  },
  {
   "cell_type": "code",
   "execution_count": 5,
   "id": "bfade735",
   "metadata": {},
   "outputs": [],
   "source": [
    "#Inicilalizar TfidfVectorizer\n",
    "tfidf_vectorizer=TfidfVectorizer(stop_words='english', max_df=0.7)\n",
    "#Ajustar y transformar el conjunto de entrenamiento, transformar el conjunto de prueba\n",
    "tfidf_train=tfidf_vectorizer.fit_transform(x_train) \n",
    "tfidf_test=tfidf_vectorizer.transform(x_test)"
   ]
  },
  {
   "cell_type": "code",
   "execution_count": 6,
   "id": "b58d9821",
   "metadata": {},
   "outputs": [
    {
     "name": "stdout",
     "output_type": "stream",
     "text": [
      "Accuracy: 92.58%\n"
     ]
    }
   ],
   "source": [
    "#Inicializa el PassiveAggressiveClassifier\n",
    "pac=PassiveAggressiveClassifier(max_iter=50)\n",
    "pac.fit(tfidf_train,y_train)\n",
    "#Predecir en el conjunto de prueba y calcular la precisión\n",
    "y_pred=pac.predict(tfidf_test)\n",
    "score=accuracy_score(y_test,y_pred)\n",
    "print(f'Accuracy: {round(score*100,2)}%')"
   ]
  },
  {
   "cell_type": "code",
   "execution_count": 7,
   "id": "9a294edd",
   "metadata": {},
   "outputs": [
    {
     "data": {
      "text/plain": [
       "array([[588,  50],\n",
       "       [ 44, 585]])"
      ]
     },
     "execution_count": 7,
     "metadata": {},
     "output_type": "execute_result"
    }
   ],
   "source": [
    "#Matriz de confusion\n",
    "cm  = confusion_matrix(y_test,y_pred, labels=['FAKE','REAL'])\n",
    "cm"
   ]
  },
  {
   "cell_type": "code",
   "execution_count": 8,
   "id": "c5306ff5",
   "metadata": {},
   "outputs": [
    {
     "data": {
      "image/png": "[encoded data removed]",
      "text/plain": [
       "<Figure size 640x480 with 2 Axes>"
      ]
     },
     "metadata": {},
     "output_type": "display_data"
    }
   ],
   "source": [
    "import matplotlib.pyplot as plt\n",
    "from sklearn.metrics import confusion_matrix\n",
    "\n",
    "# Crear plano de matriz de confusión\n",
    "plt.imshow(cm, interpolation='nearest', cmap=plt.cm.Blues)\n",
    "plt.title('Matriz de Confusión')\n",
    "plt.colorbar()\n",
    "tick_marks = np.arange(2)\n",
    "plt.xticks(tick_marks, ['FAKE', 'REAL'])\n",
    "plt.yticks(tick_marks, ['FAKE', 'REAL'])\n",
    "plt.xlabel('Predicción del modelo')\n",
    "plt.ylabel('Etiqueta real')\n",
    "\n",
    "# Agregar anotaciones en los bloques de la matriz\n",
    "for i in range(2):\n",
    "    for j in range(2):\n",
    "        plt.text(j, i, str(cm[i][j]), ha='center', va='center', color='black')\n",
    "\n",
    "plt.show()"
   ]
  },
  {
   "cell_type": "markdown",
   "id": "9f19bfa5",
   "metadata": {},
   "source": [
    "## Probemos algunas noticias de USA..."
   ]
  },
  {
   "cell_type": "code",
   "execution_count": 12,
   "id": "ce4c82be",
   "metadata": {},
   "outputs": [
    {
     "name": "stdout",
     "output_type": "stream",
     "text": [
      "Ingresa la noticia para clasificar: Former US President Donald Trump has said court officials \"were crying\" as he was indicted last week on business fraud charges, in his first interview since the historic arraignment.  Speaking to Fox News, Mr Trump said many of the staff at the Manhattan court \"were in tears or close to it\".  The 2024 White House contender vowed that even if convicted, \"I'd never drop out, it's not my thing\".  Last week he pleaded not guilty to 34 counts of falsifying business records.  In the interview aired on Tuesday on the Tucker Carlson Tonight show, Mr Trump described how he was processed at the criminal court by officials, including police. He said \"tears were pouring down their eyes\".  \"They were incredible,\" he said of the staff. \"When I went to the courthouse, which is also a prison in a sense, they signed me in and I'll tell you people were crying.  \"People that work there. Professionally work there that have no problems putting in murderers and they see everybody.  \"It's a tough, tough place and they were crying. They were actually crying. They said, 'I'm sorry.'\"   In the interview, Mr Trump maintained he is innocent and argued there is no case against him.  He touted the assessment of a critic of his, former FBI Deputy Director Andrew McCabe, who told CNN last week that the first-ever indictment against a former US president had \"landed like a dud\".  The Fox interview comes after a recent filing from a defamation lawsuit embroiling the conservative cable channel revealed that Tucker Carlson had said of Mr Trump in a text message: \"I hate him passionately.\"  But there were no signs of any ill will between the two in the exclusive sit-down at Mr Trump's Florida estate, Mar-a-Lago. Much of the interview focused on foreign policy.  Mr Trump said Russian President Vladimir Putin was \"very smart\", described the leaders of Saudi Arabia as \"great people\", and praised Chinese President Xi Jinping as a \"brilliant man\".  The ex-president also said he and North Korean leader Kim Jong-un \"get along great to this day\".  https://www.bbc.com/news/world-us-canada-65247635\n",
      "La predicción es: REAL\n"
     ]
    }
   ],
   "source": [
    "# Obtener la entrada del usuario\n",
    "input_text = input(\"Ingresa la noticia para clasificar: \")\n",
    "\n",
    "# Transformar la entrada del usuario en características TF-IDF\n",
    "tfidf_input = tfidf_vectorizer.transform([input_text])\n",
    "\n",
    "# Hacer la predicción\n",
    "prediction = pac.predict(tfidf_input)\n",
    "\n",
    "# Mostrar la predicción al usuario\n",
    "print(\"La predicción es:\", prediction[0])"
   ]
  },
  {
   "cell_type": "code",
   "execution_count": null,
   "id": "100f1e7f",
   "metadata": {},
   "outputs": [],
   "source": [
    "# Obtener la entrada del usuario\n",
    "input_text = input(\"Ingresa la noticia para clasificar: \")\n",
    "\n",
    "# Transformar la entrada del usuario en características TF-IDF\n",
    "tfidf_input = tfidf_vectorizer.transform([input_text])\n",
    "\n",
    "# Hacer la predicción\n",
    "prediction = pac.predict(tfidf_input)\n",
    "\n",
    "# Mostrar la predicción al usuario\n",
    "print(\"La predicción es:\", prediction[0])"
   ]
  },
  {
   "cell_type": "code",
   "execution_count": null,
   "id": "140400a5",
   "metadata": {},
   "outputs": [],
   "source": []
  }
 ],
 "metadata": {
  "kernelspec": {
   "display_name": "Python 3 (ipykernel)",
   "language": "python",
   "name": "python3"
  },
  "language_info": {
   "codemirror_mode": {
    "name": "ipython",
    "version": 3
   },
   "file_extension": ".py",
   "mimetype": "text/x-python",
   "name": "python",
   "nbconvert_exporter": "python",
   "pygments_lexer": "ipython3",
   "version": "3.10.6"
  },
  "toc": {
   "base_numbering": 1,
   "nav_menu": {},
   "number_sections": true,
   "sideBar": true,
   "skip_h1_title": false,
   "title_cell": "Table of Contents",
   "title_sidebar": "Contents",
   "toc_cell": false,
   "toc_position": {},
   "toc_section_display": true,
   "toc_window_display": false
  }
 },
 "nbformat": 4,
 "nbformat_minor": 5
}
